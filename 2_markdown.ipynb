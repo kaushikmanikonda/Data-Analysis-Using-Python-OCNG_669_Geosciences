{
 "cells": [
  {
   "cell_type": "markdown",
   "metadata": {
    "nbgrader": {
     "grade": false,
     "locked": false,
     "schema_version": 1,
     "solution": false
    }
   },
   "source": [
    "# Markdown"
   ]
  },
  {
   "cell_type": "markdown",
   "metadata": {
    "nbgrader": {
     "grade": false,
     "locked": false,
     "schema_version": 1,
     "solution": false
    }
   },
   "source": [
    "Markdown is a special way of writing text in order to specify formatting, like whether text should be bold, italicized, etc.\n",
    "\n",
    "For the following few exercises, try to format the specified text using Markdown. You can use the following website as a reference: https://help.github.com/articles/getting-started-with-writing-and-formatting-on-github/\n",
    "\n",
    "- Hint #1: after editing the Markdown, you will need to run the cell so that the formatting appears.\n",
    "- Hint #2: try selecting *this* cell so you can see what the Markdown looks like when you're editing it. Remember to run the cell again to see what it looks like when it is formatted.\n",
    "\n",
    "Note that in this assignment, the formatted text boxes are actually images, so you cannot look at the cell in edit mode to see the answer. However, in future assignments, we will write all the instructions in Markdown, so in the future you will always be able to look at the cell in edit mode to see how the formatting is done."
   ]
  },
  {
   "cell_type": "markdown",
   "metadata": {
    "nbgrader": {
     "grade": false,
     "locked": false,
     "schema_version": 1,
     "solution": false
    }
   },
   "source": [
    "### Italics and Boldface"
   ]
  },
  {
   "cell_type": "markdown",
   "metadata": {
    "nbgrader": {
     "grade": false,
     "locked": false,
     "schema_version": 1,
     "solution": false
    }
   },
   "source": [
    "<div class=\"alert alert-success\">\n",
    "Italicize the word \"Banana\", like this:\n",
    "</div>\n",
    "\n",
    "![](./images/banana-italics.png)\n",
    "\n",
    "*Banana*"
   ]
  },
  {
   "cell_type": "markdown",
   "metadata": {
    "nbgrader": {
     "grade": true,
     "grade_id": "italics",
     "locked": false,
     "points": 0.1,
     "schema_version": 1,
     "solution": true
    }
   },
   "source": []
  },
  {
   "cell_type": "markdown",
   "metadata": {
    "nbgrader": {
     "grade": false,
     "locked": false,
     "schema_version": 1,
     "solution": false
    }
   },
   "source": [
    "<div class=\"alert alert-success\">\n",
    "Bold the word \"Orange\", like this:\n",
    "</div>\n",
    "\n",
    "![](images/orange-bold.png)\n",
    "\n",
    "- **BOLD**\n",
    "- **Kaushik**"
   ]
  },
  {
   "cell_type": "markdown",
   "metadata": {
    "nbgrader": {
     "grade": false,
     "locked": false,
     "schema_version": 1,
     "solution": false
    }
   },
   "source": [
    "### Lists"
   ]
  },
  {
   "cell_type": "markdown",
   "metadata": {
    "nbgrader": {
     "grade": false,
     "locked": false,
     "schema_version": 1,
     "solution": false
    }
   },
   "source": [
    "<div class=\"alert alert-success\">\n",
    "Make a bulleted list consisting of the words \"Apple\", \"Banana\", and \"Orange\", like this:\n",
    "</div>\n",
    "\n",
    "![](images/bulleted-list.png)"
   ]
  },
  {
   "cell_type": "markdown",
   "metadata": {
    "nbgrader": {
     "grade": true,
     "grade_id": "bulleted_list",
     "locked": false,
     "points": 0.1,
     "schema_version": 1,
     "solution": true
    }
   },
   "source": [
    "- Apple\n",
    "- Banana\n",
    "- Orange\n",
    "* Kaushik"
   ]
  },
  {
   "cell_type": "markdown",
   "metadata": {
    "nbgrader": {
     "grade": false,
     "locked": false,
     "schema_version": 1,
     "solution": false
    }
   },
   "source": [
    "<div class=\"alert alert-success\">\n",
    "Make a numbered list consisting of the words \"Strawberry\", \"Blueberry\", and \"Raspberry\", like this:\n",
    "</div>\n",
    "\n",
    "![](images/numbered-list.png)"
   ]
  },
  {
   "cell_type": "markdown",
   "metadata": {
    "nbgrader": {
     "grade": true,
     "grade_id": "itemized_list",
     "locked": false,
     "points": 0.1,
     "schema_version": 1,
     "solution": true
    }
   },
   "source": [
    "1. Strawberry\n",
    "2. Blueberry\n",
    "3. Raspberry\n",
    "    - Kaushik\n",
    "    - OCNG_669"
   ]
  },
  {
   "cell_type": "markdown",
   "metadata": {
    "nbgrader": {
     "grade": false,
     "locked": false,
     "schema_version": 1,
     "solution": false
    }
   },
   "source": [
    "<div class=\"alert alert-success\">\n",
    "Make the following list of lists:\n",
    "</div>\n",
    "\n",
    "![](images/list-of-lists.png)"
   ]
  },
  {
   "cell_type": "markdown",
   "metadata": {
    "nbgrader": {
     "grade": true,
     "grade_id": "nested_lists",
     "locked": false,
     "points": 0.1,
     "schema_version": 1,
     "solution": true
    }
   },
   "source": [
    "1. Fruits\n",
    "    - Apple\n",
    "    - Banana\n",
    "    - **Orange**\n",
    "2. Berries\n",
    "    - *Strawberry*\n",
    "    - **Blue _berry_ **\n",
    "    - ***Raspberry***"
   ]
  }
 ],
 "metadata": {
  "celltoolbar": "Create Assignment",
  "kernelspec": {
   "display_name": "Python 3",
   "language": "python",
   "name": "python3"
  },
  "language_info": {
   "codemirror_mode": {
    "name": "ipython",
    "version": 3
   },
   "file_extension": ".py",
   "mimetype": "text/x-python",
   "name": "python",
   "nbconvert_exporter": "python",
   "pygments_lexer": "ipython3",
   "version": "3.8.5"
  }
 },
 "nbformat": 4,
 "nbformat_minor": 1
}
