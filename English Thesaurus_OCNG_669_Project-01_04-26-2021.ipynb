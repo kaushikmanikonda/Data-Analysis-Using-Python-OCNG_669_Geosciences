{
 "cells": [
  {
   "cell_type": "markdown",
   "metadata": {
    "slideshow": {
     "slide_type": "slide"
    }
   },
   "source": [
    "# This is Part - 01 of my final project for OCNG 669.\n",
    "\n",
    "### This Jupyter Notebook creates an application that takes a word as an input and returns its definition (English Thesaurus).\n",
    "### If the input word is not found in the database, this application will return a series of words that closely match the input."
   ]
  },
  {
   "cell_type": "markdown",
   "metadata": {},
   "source": [
    "# The function in the next cell (similarity_score) calculates \"similarity score\" for two words.\n",
    "\n",
    "### The main application makes use of this function to compare the \"similarity scores\" of all the words in the \"close matches\" list."
   ]
  },
  {
   "cell_type": "code",
   "execution_count": 1,
   "metadata": {
    "slideshow": {
     "slide_type": "slide"
    }
   },
   "outputs": [
    {
     "name": "stdout",
     "output_type": "stream",
     "text": [
      "<class 'dict'> 49537\n"
     ]
    }
   ],
   "source": [
    "#Importing the necessary libraries and the dataset for this project.\n",
    "\n",
    "import numpy as np\n",
    "\n",
    "#The next sequence of code imports the raw json file with a dictionary of words and definitions.\n",
    "import json\n",
    "data = json.load(open(\"C:\\\\Users\\\\rajak\\\\Documents\\\\Spring_2021\\\\OCNG_669\\\\Project\\\\Thesaurus Project\\\\data.json\"))\n",
    "print(type(data),len(data))"
   ]
  },
  {
   "cell_type": "markdown",
   "metadata": {
    "slideshow": {
     "slide_type": "subslide"
    }
   },
   "source": [
    "# 1. the dataset must have a minimum of 1000 data points\n",
    "### This dataset has 49,537 data points; So, it satisfies the first requirement of the project."
   ]
  },
  {
   "cell_type": "markdown",
   "metadata": {
    "slideshow": {
     "slide_type": "slide"
    }
   },
   "source": [
    "# 2. At least one user-defined function, that takes at least one argument, and you must use the function.\n",
    "\n",
    "### The \"similarity_score\" function in the next cell takes two strings as arguments and returns a similarity score based on how many letters and positions match for those two input strings.\n",
    "\n",
    "### Since the main application makes use of this function to compare the input word to \"close matches\", this satisfies the second requirement of the project."
   ]
  },
  {
   "cell_type": "markdown",
   "metadata": {
    "slideshow": {
     "slide_type": "slide"
    }
   },
   "source": [
    "# 3. Must import one module and use a function from it\n",
    "\n",
    "### The application already imported the json module and used the json.load method/function to read in the thesaurus dataset\n",
    "\n",
    "### The application also imported the numpy library and uses the np.array method to create 1-D arrays of words."
   ]
  },
  {
   "cell_type": "code",
   "execution_count": 2,
   "metadata": {
    "slideshow": {
     "slide_type": "slide"
    }
   },
   "outputs": [],
   "source": [
    "#The next sequence creates a function that claculates the similarity score for two given strings.\n",
    "#The words must be entered as strings, with \" \", otherwise the function will return an error.\n",
    "#However, that will not be a problem for this particular application, since we are only using this function\n",
    "#inside the last for loop in the next code sequence.\n",
    "\n",
    "\n",
    "def similarity_score(w1,w2):\n",
    "    \"\"\" Takes two strings as arguments (include \" \" when writing input strings), and returns a similarity score\n",
    "    based on how many letters and positions match for those two input strings.\"\"\"\n",
    "    lis1 = []\n",
    "    lis2 = []\n",
    "    for l in w1:\n",
    "        lis1.append(l)\n",
    "    for m in w2:\n",
    "        lis2.append(m)\n",
    "    i = 0\n",
    "    if len(w1) < len(w2):\n",
    "        for n in range(len(w1)):\n",
    "            if lis1[n].lower() == lis2[n].lower():\n",
    "                i += 1\n",
    "        return i\n",
    "    else:\n",
    "        for n in range(len(w2)):\n",
    "            if lis1[n].lower() == lis2[n].lower():\n",
    "                i += 1\n",
    "        return i\n"
   ]
  },
  {
   "cell_type": "code",
   "execution_count": 3,
   "metadata": {
    "slideshow": {
     "slide_type": "slide"
    }
   },
   "outputs": [
    {
     "name": "stdout",
     "output_type": "stream",
     "text": [
      "Please enter a word:PHone\n",
      "['An electronic device used for calling people.', 'To contact someone using the telephone.']\n",
      "Please enter a word:Fhony\n",
      "Did you mean to type any of the below words?\n",
      "\n",
      "['phony' 'phony' 'phony' 'phony'] \n",
      "\n",
      "Please enter a word:Sarandapity\n",
      "Did you mean to type any of the below words?\n",
      "\n",
      "['Sarangani Blaan' 'Sarangani Blaan' 'Sarangani Blaan' 'Sarangani Blaan'\n",
      " 'Sarangani Blaan' 'serendipity' 'serendipitously' 'serendipity'\n",
      " 'serendipity' 'serendipity'] \n",
      "\n",
      "Please enter a word:Inmakutate\n",
      "Did you mean to type any of the below words?\n",
      "\n",
      "['inaugurate' 'immaculate' 'invalidate' 'inaugurate' 'immaculate'\n",
      " 'invalidate' 'inaugurate' 'immaculate' 'invalidate'] \n",
      "\n",
      "Please enter a word:\\end\n",
      "Terminated!\n"
     ]
    }
   ],
   "source": [
    "#This next sequence takes a word as an argument and returns its definition as the output (among other things).\n",
    "#Enter \\end as the input to terminate the program and start again. Otherwise you can not exit the program without\n",
    "#resettig the kernel or causing an error.\n",
    "\n",
    "while True:\n",
    "    word = input(\"Please enter a word:\")\n",
    "    dummy = word\n",
    "    if word == \"\\end\":\n",
    "        print(\"Terminated!\")\n",
    "        break\n",
    "    elif dummy.lower() in data.keys():\n",
    "        dummy1 = dummy.lower()\n",
    "        output = data[dummy1]\n",
    "        print(output)\n",
    "    elif dummy.isnumeric():\n",
    "        print(\"Please enter a word, not a number\")\n",
    "        continue\n",
    "    elif (dummy.isalpha() == False):\n",
    "        print(\"Please enter a word containing only alphabets\")\n",
    "        continue\n",
    "    else:\n",
    "        dummy1 = []\n",
    "        dummy2 = []\n",
    "        for i in range(1,(len(word)+1)):\n",
    "            for j in list(data.keys()):\n",
    "                if j.startswith(word[:i]): #and (len(j) == len(word)):\n",
    "                    dummy1.append(j)\n",
    "            for k in list(data.keys()):\n",
    "                if k.endswith(word[-i::1]): #and (len(k) == len(word)):\n",
    "                    dummy2.append(k)\n",
    "        dummy3 = dummy1 + dummy2\n",
    "        lis3 = []\n",
    "        for p in dummy3:\n",
    "            lis3.append(similarity_score(p,dummy))\n",
    "        lis3 = np.array(lis3)\n",
    "        dummy4 = np.array(dummy3)\n",
    "        print(\"Did you mean to type any of the below words?\\n\")\n",
    "        print(dummy4[lis3 >= (len(dummy)/2+1)],\"\\n\")"
   ]
  },
  {
   "cell_type": "code",
   "execution_count": null,
   "metadata": {},
   "outputs": [],
   "source": []
  }
 ],
 "metadata": {
  "kernelspec": {
   "display_name": "Python 3",
   "language": "python",
   "name": "python3"
  },
  "language_info": {
   "codemirror_mode": {
    "name": "ipython",
    "version": 3
   },
   "file_extension": ".py",
   "mimetype": "text/x-python",
   "name": "python",
   "nbconvert_exporter": "python",
   "pygments_lexer": "ipython3",
   "version": "3.8.5"
  }
 },
 "nbformat": 4,
 "nbformat_minor": 4
}
