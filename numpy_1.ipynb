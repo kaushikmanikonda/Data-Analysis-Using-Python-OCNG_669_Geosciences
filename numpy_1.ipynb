{
 "cells": [
  {
   "cell_type": "markdown",
   "metadata": {
    "nbgrader": {
     "grade": false,
     "grade_id": "cell-c0563c11a2dbc9d6",
     "locked": true,
     "schema_version": 1,
     "solution": false
    }
   },
   "source": [
    "# Numerical Python"
   ]
  },
  {
   "cell_type": "code",
   "execution_count": 1,
   "metadata": {},
   "outputs": [],
   "source": [
    "# ALWAYS RUN THIS CELL FIRST\n",
    "import numpy as np"
   ]
  },
  {
   "cell_type": "code",
   "execution_count": 2,
   "metadata": {},
   "outputs": [
    {
     "data": {
      "text/plain": [
       "complex"
      ]
     },
     "execution_count": 2,
     "metadata": {},
     "output_type": "execute_result"
    }
   ],
   "source": [
    "x=1+2j\n",
    "type(x)"
   ]
  },
  {
   "cell_type": "markdown",
   "metadata": {
    "nbgrader": {
     "grade": false,
     "grade_id": "cell-b7457ad18e009228",
     "locked": true,
     "schema_version": 1,
     "solution": false
    }
   },
   "source": [
    "### 1. Vector manipulation (0.5 points)\n",
    "\n",
    "The word \"vector\" is commonly used to mean a one-dimensional array. \n",
    "Create a vector of size 10 called `vectorm` that contains zeros but with the fifth value as 1."
   ]
  },
  {
   "cell_type": "code",
   "execution_count": 3,
   "metadata": {
    "nbgrader": {
     "grade": false,
     "grade_id": "vector-manipulation",
     "locked": false,
     "schema_version": 1,
     "solution": true
    }
   },
   "outputs": [
    {
     "name": "stdout",
     "output_type": "stream",
     "text": [
      "10 (10,) 1\n"
     ]
    },
    {
     "data": {
      "text/plain": [
       "array([0, 0, 0, 0, 1, 0, 0, 0, 0, 0], dtype=int64)"
      ]
     },
     "execution_count": 3,
     "metadata": {},
     "output_type": "execute_result"
    }
   ],
   "source": [
    "### BEGIN SOLUTION\n",
    "vectorm=np.zeros(10,dtype=np.int64)\n",
    "vectorm[4]=1\n",
    "print(vectorm.size,vectorm.shape,vectorm.ndim)\n",
    "vectorm"
   ]
  },
  {
   "cell_type": "code",
   "execution_count": 4,
   "metadata": {
    "nbgrader": {
     "grade": true,
     "grade_id": "test_vector-manipulation",
     "locked": true,
     "points": 0.5,
     "schema_version": 1,
     "solution": false
    }
   },
   "outputs": [
    {
     "name": "stdout",
     "output_type": "stream",
     "text": [
      "Success!\n"
     ]
    }
   ],
   "source": [
    "\"\"\"(0.5 point) Test code for the previous function. This cell should NOT give any errors when it is run.\"\"\"\n",
    "\n",
    "assert isinstance(vectorm, np.ndarray)\n",
    "assert vectorm[:4].all() == 0\n",
    "assert vectorm[4] == 1\n",
    "assert vectorm[5:].all() == 0\n",
    "\n",
    "print(\"Success!\")"
   ]
  },
  {
   "cell_type": "markdown",
   "metadata": {
    "nbgrader": {
     "grade": false,
     "grade_id": "cell-e96ee956469814d0",
     "locked": true,
     "schema_version": 1,
     "solution": false
    }
   },
   "source": [
    "### 2. Vector range (0.5 points)\n",
    "\n",
    "Create a vector called `vectorr` with values ranging from 10 to 49, inclusive. Do not write out each element in the array."
   ]
  },
  {
   "cell_type": "code",
   "execution_count": 5,
   "metadata": {
    "nbgrader": {
     "grade": false,
     "grade_id": "vector-range",
     "locked": false,
     "schema_version": 1,
     "solution": true
    }
   },
   "outputs": [
    {
     "data": {
      "text/plain": [
       "array([10, 11, 12, 13, 14, 15, 16, 17, 18, 19, 20, 21, 22, 23, 24, 25, 26,\n",
       "       27, 28, 29, 30, 31, 32, 33, 34, 35, 36, 37, 38, 39, 40, 41, 42, 43,\n",
       "       44, 45, 46, 47, 48, 49])"
      ]
     },
     "execution_count": 5,
     "metadata": {},
     "output_type": "execute_result"
    }
   ],
   "source": [
    "### BEGIN SOLUTION\n",
    "vectorr=np.arange(10,50,1)\n",
    "vectorr"
   ]
  },
  {
   "cell_type": "code",
   "execution_count": 6,
   "metadata": {
    "nbgrader": {
     "grade": true,
     "grade_id": "test_vector-range",
     "locked": true,
     "points": 0.5,
     "schema_version": 1,
     "solution": false
    }
   },
   "outputs": [
    {
     "name": "stdout",
     "output_type": "stream",
     "text": [
      "Success!\n"
     ]
    }
   ],
   "source": [
    "\"\"\"(0.5 point) Test code for the previous function. This cell should NOT give any errors when it is run.\"\"\"\n",
    "\n",
    "assert np.array_equal(vectorr, np.array([10, 11, 12, 13, 14, 15, 16, 17, 18, 19, 20, 21, 22, 23, 24, 25, 26,\n",
    "       27, 28, 29, 30, 31, 32, 33, 34, 35, 36, 37, 38, 39, 40, 41, 42, 43, 44, 45, 46, 47, 48, 49]))\n",
    "assert isinstance(vectorr, np.ndarray)\n",
    "\n",
    "print(\"Success!\")"
   ]
  },
  {
   "cell_type": "markdown",
   "metadata": {
    "nbgrader": {
     "grade": false,
     "grade_id": "cell-b1556cbe10920a06",
     "locked": true,
     "schema_version": 1,
     "solution": false
    }
   },
   "source": [
    "### 3. Reverse a vector (1 point)\n",
    "\n",
    "Write a function, `reverse(x)` which reverses a vector, so that the first element becomes the last element."
   ]
  },
  {
   "cell_type": "code",
   "execution_count": 7,
   "metadata": {
    "nbgrader": {
     "grade": false,
     "grade_id": "reverse",
     "locked": false,
     "schema_version": 1,
     "solution": true
    }
   },
   "outputs": [],
   "source": [
    "def reverse(vec):\n",
    "    \"\"\"return a 1D vector with the elements reversed\n",
    "\n",
    "    Input\n",
    "    -----\n",
    "        x: 1D array\n",
    "\n",
    "    Output\n",
    "    ------\n",
    "        res: 1D array, with the elements of `x` reversed\n",
    "    \"\"\"\n",
    "    ### BEGIN SOLUTION\n",
    "    dummy1=vec[-1::-1]\n",
    "    return dummy1"
   ]
  },
  {
   "cell_type": "code",
   "execution_count": 8,
   "metadata": {
    "nbgrader": {
     "grade": true,
     "grade_id": "test_reverse",
     "locked": true,
     "points": 1,
     "schema_version": 1,
     "solution": false
    }
   },
   "outputs": [
    {
     "name": "stdout",
     "output_type": "stream",
     "text": [
      "Success!\n"
     ]
    }
   ],
   "source": [
    "\"\"\"(1 point) Test code for the previous function. This cell should NOT give any errors when it is run.\"\"\"\n",
    "\n",
    "vec = np.array([1, 2, 3, 4])\n",
    "vector_reversed = reverse(vec)\n",
    "assert np.array_equal(vector_reversed, np.array([4, 3, 2, 1]))\n",
    "vec = np.array([-1, 9, 2.38])\n",
    "vector_reversed = reverse(vec)\n",
    "assert np.array_equal(vector_reversed, np.array([2.38, 9, -1]))\n",
    "assert isinstance(vector_reversed, np.ndarray)\n",
    "\n",
    "print(\"Success!\")"
   ]
  },
  {
   "cell_type": "markdown",
   "metadata": {
    "nbgrader": {
     "grade": false,
     "grade_id": "cell-a18b59a919ab1949",
     "locked": true,
     "schema_version": 1,
     "solution": false
    }
   },
   "source": [
    "### 4. Find indices of non-zero elements\n",
    "\n",
    "**4a.** (1 point) Write a function `arg_nonzero(x)` that returns the indices of the non-zero elements of the input vector `x`. Do not use the `numpy` function `nonzero` to do this. You can use `np.where`.\n",
    "\n",
    "**4b.** (1 point) Write basically the same function as in part A, but instead of returning the indices of the non-zero elements of the input vector `x`, return the non-zero elements themselves. The function call should be `return_nonzero(x)`. Still do not use the `numpy` function `nonzero` to do this. Again, you can use `np.where`."
   ]
  },
  {
   "cell_type": "code",
   "execution_count": 9,
   "metadata": {
    "nbgrader": {
     "grade": false,
     "grade_id": "find_nonzero",
     "locked": false,
     "schema_version": 1,
     "solution": true
    }
   },
   "outputs": [],
   "source": [
    "# part A\n",
    "def arg_nonzero(x):\n",
    "    \"\"\"return the indices of non-zero elements of an array.\n",
    "\n",
    "    Inputs:\n",
    "        x:  array\n",
    "    \n",
    "    Returns:\n",
    "        indices: array of integer indices\n",
    "    \"\"\"\n",
    "    ### BEGIN SOLUTION\n",
    "    return np.argwhere(~(x==0)).reshape(np.argwhere(~(x==0)).size)"
   ]
  },
  {
   "cell_type": "code",
   "execution_count": 10,
   "metadata": {},
   "outputs": [
    {
     "data": {
      "text/plain": [
       "array([1, 2, 3, 6, 7, 9], dtype=int64)"
      ]
     },
     "execution_count": 10,
     "metadata": {},
     "output_type": "execute_result"
    }
   ],
   "source": [
    "x8=np.array([0,1,4,457,0,0,24,46,0,456,])\n",
    "arg_nonzero(x8)"
   ]
  },
  {
   "cell_type": "code",
   "execution_count": 11,
   "metadata": {
    "nbgrader": {
     "grade": true,
     "grade_id": "test_find_nonzero",
     "locked": true,
     "points": 1,
     "schema_version": 1,
     "solution": false
    }
   },
   "outputs": [
    {
     "name": "stdout",
     "output_type": "stream",
     "text": [
      "Success!\n"
     ]
    }
   ],
   "source": [
    "# part A\n",
    "\"\"\"(1 point) Test code for the previous function. This cell should NOT give any errors when it is run.\n",
    "Do not alter the contents of this cell.\"\"\"\n",
    "\n",
    "vec1 = np.array([1, 2, 0, 0, 4, 0])\n",
    "assert np.array_equal(arg_nonzero(vec1), np.array([0, 1, 4]))\n",
    "vec2 = np.array([-5, 0, 8, -2, 4, 10])\n",
    "assert np.array_equal(arg_nonzero(vec2), np.array([0, 2, 3, 4, 5]))\n",
    "vec3 = np.array([0, 0, 0, 0, 0, 0, 0, 3, 0])\n",
    "assert np.array_equal(arg_nonzero(vec3), np.array([7]))\n",
    "\n",
    "# Also will look for not using the numpy nonzero() function\n",
    "npnonzero_old = np.nonzero\n",
    "inputs = 'tomato'\n",
    "assert np.array_equal(arg_nonzero(vec1), np.array([0, 1, 4]))\n",
    "np.nonzero = npnonzero_old\n",
    "\n",
    "print(\"Success!\")"
   ]
  },
  {
   "cell_type": "code",
   "execution_count": 12,
   "metadata": {
    "nbgrader": {
     "grade": false,
     "grade_id": "return_nonzero",
     "locked": false,
     "schema_version": 1,
     "solution": true
    }
   },
   "outputs": [],
   "source": [
    "# part B\n",
    "def return_nonzero(x):\n",
    "    \"\"\"return the non-zero elements of an array.\n",
    "\n",
    "    Inputs:\n",
    "        x:  array\n",
    "    \n",
    "    Returns:\n",
    "        non-zero elements in x\n",
    "    \"\"\"\n",
    "    ### BEGIN SOLUTION\n",
    "    return x[arg_nonzero(x)]"
   ]
  },
  {
   "cell_type": "code",
   "execution_count": 13,
   "metadata": {
    "nbgrader": {
     "grade": true,
     "grade_id": "test_return_nonzero",
     "locked": true,
     "points": 1,
     "schema_version": 1,
     "solution": false
    }
   },
   "outputs": [
    {
     "name": "stdout",
     "output_type": "stream",
     "text": [
      "Success!\n"
     ]
    }
   ],
   "source": [
    "# part B\n",
    "\"\"\"(1 point) Test code for the previous function. This cell should NOT give any errors when it is run.\n",
    "Do not alter the contents of this cell.\"\"\"\n",
    "\n",
    "assert np.array_equal(return_nonzero(vec1), np.array([1, 2, 4]))\n",
    "assert np.array_equal(return_nonzero(vec2), np.array([-5, 8, -2, 4, 10]))\n",
    "assert np.array_equal(return_nonzero(vec3), np.array([3]))\n",
    "\n",
    "print(\"Success!\")"
   ]
  },
  {
   "cell_type": "markdown",
   "metadata": {
    "nbgrader": {
     "grade": false,
     "grade_id": "cell-a91cca8e0f314c40",
     "locked": true,
     "schema_version": 1,
     "solution": false
    }
   },
   "source": [
    "### 5. Array with random values (1 point)\n",
    "\n",
    "Create a 10x30x3 array called `random_array` that contains normally distributed ($\\mu=0,~\\sigma=1)$ random values."
   ]
  },
  {
   "cell_type": "code",
   "execution_count": 14,
   "metadata": {
    "nbgrader": {
     "grade": false,
     "grade_id": "random_array",
     "locked": false,
     "schema_version": 1,
     "solution": true
    }
   },
   "outputs": [
    {
     "name": "stdout",
     "output_type": "stream",
     "text": [
      "900\n",
      "(10, 30, 3)\n"
     ]
    },
    {
     "data": {
      "text/plain": [
       "(array([  5.,  19.,  61., 118., 229., 190., 158.,  89.,  25.,   6.]),\n",
       " array([-3.10509216, -2.51020703, -1.9153219 , -1.32043676, -0.72555163,\n",
       "        -0.1306665 ,  0.46421864,  1.05910377,  1.6539889 ,  2.24887404,\n",
       "         2.84375917]),\n",
       " <BarContainer object of 10 artists>)"
      ]
     },
     "execution_count": 14,
     "metadata": {},
     "output_type": "execute_result"
    },
    {
     "data": {
      "image/png": "[encoded data removed]",
      "text/plain": [
       "<Figure size 432x288 with 1 Axes>"
      ]
     },
     "metadata": {
      "needs_background": "light"
     },
     "output_type": "display_data"
    }
   ],
   "source": [
    "### BEGIN SOLUTION\n",
    "random_array=np.random.randn(10,30,3)\n",
    "print(random_array.size)\n",
    "print(random_array.shape)\n",
    "import matplotlib.pyplot as plt\n",
    "plt.hist(random_array.flatten()) #Okay, the plot resembles a bell curve, the distribution was clos to normal."
   ]
  },
  {
   "cell_type": "code",
   "execution_count": 15,
   "metadata": {
    "nbgrader": {
     "grade": true,
     "grade_id": "test_random_array",
     "locked": true,
     "points": 1,
     "schema_version": 1,
     "solution": false
    }
   },
   "outputs": [
    {
     "name": "stdout",
     "output_type": "stream",
     "text": [
      "Success!\n"
     ]
    }
   ],
   "source": [
    "\"\"\"(1 point) Test code for the previous function. This cell should NOT give any errors when it is run.\"\"\"\n",
    "\n",
    "assert random_array.shape == (10, 30, 3)  # check for shape\n",
    "assert np.allclose(random_array.mean(), 0, atol=0.1)\n",
    "assert np.allclose(random_array.std(), 1, atol=0.1)\n",
    "\n",
    "print(\"Success!\")"
   ]
  },
  {
   "cell_type": "markdown",
   "metadata": {
    "nbgrader": {
     "grade": false,
     "grade_id": "cell-6f6fe49797d45031",
     "locked": true,
     "schema_version": 1,
     "solution": false
    }
   },
   "source": [
    "### 6. Operations on an array with random values (3 points)\n",
    "\n",
    "Fill in the code for a function, `maxesmins()`, which takes in an array and then returns \n",
    "- the minimum value of the 2nd row\n",
    "- the maximum value of the 4th column\n",
    "If there aren't enough rows or columns in the array to return either, return `np.nan` instead."
   ]
  },
  {
   "cell_type": "code",
   "execution_count": 16,
   "metadata": {
    "nbgrader": {
     "grade": false,
     "grade_id": "random_operations",
     "locked": false,
     "schema_version": 1,
     "solution": true
    }
   },
   "outputs": [],
   "source": [
    "def maxesmins(K):\n",
    "    \"\"\"Returns the min of the 2nd row and max of the 4th column.\n",
    "\n",
    "    Parameters\n",
    "    ----------\n",
    "    K : numpy array\n",
    "        \n",
    "    Returns\n",
    "    -------\n",
    "    min of the 2nd row and max of the 4th column, as a tuple, or a nan for either if the array is too small to calculate it\n",
    "    \"\"\"\n",
    "    ### BEGIN SOLUTION\n",
    "    if (K.shape)[0]<2 and (K.shape)[1]<4:\n",
    "        return (np.nan,np.nan)\n",
    "    elif (K.shape)[0]<2 and (K.shape)[1]>=4:\n",
    "        max_1=np.max(K[:,3])\n",
    "        return(np.nan,max_1)\n",
    "    elif (K.shape)[0]>=2 and (K.shape)[1]<4:\n",
    "        min_1=np.min(K[1,:])\n",
    "        return(min_1,np.nan)\n",
    "    else:\n",
    "        min_1=np.min(K[1,:])\n",
    "        max_1=np.max(K[:,3])\n",
    "    return min_1,max_1"
   ]
  },
  {
   "cell_type": "code",
   "execution_count": 17,
   "metadata": {
    "nbgrader": {
     "grade": true,
     "grade_id": "test_random_operations",
     "locked": true,
     "points": 1,
     "schema_version": 1,
     "solution": false
    }
   },
   "outputs": [
    {
     "name": "stdout",
     "output_type": "stream",
     "text": [
      "This test worked! Next cell has more.\n"
     ]
    }
   ],
   "source": [
    "\"\"\"(1 point) Test code for the previous function. This cell should NOT give any errors when it is run.\"\"\"\n",
    "\n",
    "L = np.array([[1, 3, 5, 7], [2, 4, 6, 8]])\n",
    "assert (2, 8) == maxesmins(L)\n",
    "\n",
    "print(\"This test worked! Next cell has more.\")"
   ]
  },
  {
   "cell_type": "code",
   "execution_count": 18,
   "metadata": {
    "nbgrader": {
     "grade": true,
     "grade_id": "test_random_operations2",
     "locked": true,
     "points": 1,
     "schema_version": 1,
     "solution": false
    }
   },
   "outputs": [
    {
     "name": "stdout",
     "output_type": "stream",
     "text": [
      "This test worked! Next cell has more.\n"
     ]
    }
   ],
   "source": [
    "\"\"\"(1 point) Test code for the previous function. This cell should NOT give any errors when it is run.\"\"\"\n",
    "\n",
    "M = np.ones((5, 5))\n",
    "assert (1, 1) == maxesmins(M)\n",
    "\n",
    "print(\"This test worked! Next cell has more.\")"
   ]
  },
  {
   "cell_type": "code",
   "execution_count": 19,
   "metadata": {
    "nbgrader": {
     "grade": true,
     "grade_id": "test_random_operations3",
     "locked": true,
     "points": 1,
     "schema_version": 1,
     "solution": false
    }
   },
   "outputs": [
    {
     "name": "stdout",
     "output_type": "stream",
     "text": [
      "Success!\n"
     ]
    }
   ],
   "source": [
    "\"\"\"(1 point) Test code for the previous function. This cell should NOT give any errors when it is run.\"\"\"\n",
    "\n",
    "N = np.zeros((2, 2))\n",
    "assert (0, np.nan) == maxesmins(N)\n",
    "\n",
    "print(\"Success!\")"
   ]
  },
  {
   "cell_type": "markdown",
   "metadata": {
    "nbgrader": {
     "grade": false,
     "grade_id": "cell-fc382a25114485bd",
     "locked": true,
     "schema_version": 1,
     "solution": false
    }
   },
   "source": [
    "### 7. Vector without end points (1 point)\n",
    "\n",
    "Create a vector of size 10 called `vector_end` which has values ranging uniformly from 0 to 1, both excluded. Do not explicitly write out the values in an array, but instead use `np.linspace` and modify the resultant vector by indexing."
   ]
  },
  {
   "cell_type": "code",
   "execution_count": 20,
   "metadata": {
    "nbgrader": {
     "grade": false,
     "grade_id": "vector_end",
     "locked": false,
     "schema_version": 1,
     "solution": true
    }
   },
   "outputs": [
    {
     "data": {
      "text/plain": [
       "(array([3., 2., 0., 1., 0., 0., 1., 1., 0., 2.]),\n",
       " array([0.1194053 , 0.20736279, 0.29532027, 0.38327776, 0.47123525,\n",
       "        0.55919273, 0.64715022, 0.73510771, 0.8230652 , 0.91102268,\n",
       "        0.99898017]),\n",
       " <BarContainer object of 10 artists>)"
      ]
     },
     "execution_count": 20,
     "metadata": {},
     "output_type": "execute_result"
    },
    {
     "data": {
      "image/png": "[encoded data removed]",
      "text/plain": [
       "<Figure size 432x288 with 1 Axes>"
      ]
     },
     "metadata": {
      "needs_background": "light"
     },
     "output_type": "display_data"
    }
   ],
   "source": [
    "###This is just a test cell. The real solution is in the next cell.\n",
    "### BEGIN SOLUTION\n",
    "vector_end2=np.random.rand(10) #this is also supposed to populate with uniform distrubution from [0,1). Why didn't it work?\n",
    "vector_end2\n",
    "plt.hist(vector_end2)"
   ]
  },
  {
   "cell_type": "code",
   "execution_count": 21,
   "metadata": {},
   "outputs": [
    {
     "name": "stdout",
     "output_type": "stream",
     "text": [
      "[0.09090909 0.18181818 0.27272727 0.36363636 0.45454545 0.54545455\n",
      " 0.63636364 0.72727273 0.81818182 0.90909091]\n"
     ]
    },
    {
     "data": {
      "text/plain": [
       "(array([1., 1., 1., 1., 1., 1., 1., 1., 1., 1.]),\n",
       " array([0.09090909, 0.17272727, 0.25454545, 0.33636364, 0.41818182,\n",
       "        0.5       , 0.58181818, 0.66363636, 0.74545455, 0.82727273,\n",
       "        0.90909091]),\n",
       " <BarContainer object of 10 artists>)"
      ]
     },
     "execution_count": 21,
     "metadata": {},
     "output_type": "execute_result"
    },
    {
     "data": {
      "image/png": "[encoded data removed]",
      "text/plain": [
       "<Figure size 432x288 with 1 Axes>"
      ]
     },
     "metadata": {
      "needs_background": "light"
     },
     "output_type": "display_data"
    }
   ],
   "source": [
    "### BEGIN SOLUTION\n",
    "vector_end=np.linspace(0,1,12)\n",
    "vector_end=vector_end[1:11]\n",
    "print(vector_end)\n",
    "plt.hist(vector_end)"
   ]
  },
  {
   "cell_type": "code",
   "execution_count": 22,
   "metadata": {
    "nbgrader": {
     "grade": true,
     "grade_id": "test_vector_end",
     "locked": true,
     "points": 1,
     "schema_version": 1,
     "solution": false
    }
   },
   "outputs": [
    {
     "name": "stdout",
     "output_type": "stream",
     "text": [
      "Success!\n"
     ]
    }
   ],
   "source": [
    "\"\"\"(1 point) Test code for the previous function. This cell should NOT give any errors when it is run.\"\"\"\n",
    "\n",
    "output_vector_end = np.array([ 0.09090909,  0.18181818,  0.27272727,  0.36363636,  0.45454545,\n",
    "        0.54545455,  0.63636364,  0.72727273,  0.81818182,  0.90909091])\n",
    "assert np.allclose(output_vector_end, vector_end)\n",
    "\n",
    "print(\"Success!\")"
   ]
  },
  {
   "cell_type": "markdown",
   "metadata": {
    "nbgrader": {
     "grade": false,
     "grade_id": "cell-aeaeb421c470f8ef",
     "locked": true,
     "schema_version": 1,
     "solution": false
    }
   },
   "source": [
    "### 8. Sorted random vector (1 point)\n",
    "\n",
    "Create a vector of size 10 called `sorted_array` which contains random numbers (from a function in `np.random`) that you have sorted. It should be sorted in increasing order."
   ]
  },
  {
   "cell_type": "code",
   "execution_count": 23,
   "metadata": {
    "nbgrader": {
     "grade": false,
     "grade_id": "sorted_array",
     "locked": false,
     "schema_version": 1,
     "solution": true
    }
   },
   "outputs": [
    {
     "data": {
      "text/plain": [
       "array([ 46, 211, 248, 385, 389, 444, 579, 610, 655, 782])"
      ]
     },
     "execution_count": 23,
     "metadata": {},
     "output_type": "execute_result"
    }
   ],
   "source": [
    "### BEGIN SOLUTION\n",
    "sorted_array=np.random.randint(0,1000,10)\n",
    "sorted_array=np.sort(sorted_array)\n",
    "sorted_array"
   ]
  },
  {
   "cell_type": "code",
   "execution_count": 24,
   "metadata": {},
   "outputs": [
    {
     "data": {
      "text/plain": [
       "array([165,  37, 137,   4,  55, 135,  31,  45, 127])"
      ]
     },
     "execution_count": 24,
     "metadata": {},
     "output_type": "execute_result"
    }
   ],
   "source": [
    "np.diff(sorted_array)"
   ]
  },
  {
   "cell_type": "code",
   "execution_count": 25,
   "metadata": {
    "nbgrader": {
     "grade": true,
     "grade_id": "test_sorted_array",
     "locked": true,
     "points": 1,
     "schema_version": 1,
     "solution": false
    }
   },
   "outputs": [
    {
     "name": "stdout",
     "output_type": "stream",
     "text": [
      "Success!\n"
     ]
    }
   ],
   "source": [
    "\"\"\"(1 point) Test code for the previous function. This cell should NOT give any errors when it is run.\"\"\"\n",
    "\n",
    "# check for proper size\n",
    "assert sorted_array.size == 10\n",
    "# check that array is sorted\n",
    "assert (np.diff(sorted_array) > 0).all()\n",
    "\n",
    "print(\"Success!\")"
   ]
  },
  {
   "cell_type": "markdown",
   "metadata": {
    "nbgrader": {
     "grade": false,
     "grade_id": "cell-39e9f4a9c83f1a30",
     "locked": true,
     "schema_version": 1,
     "solution": false
    }
   },
   "source": [
    "### 9. Subtract the row mean from rows of a matrix (2 points)\n",
    "\n",
    "Write a function `array_minus_row_mean` which takes in matrix $F$, then subtracts the mean of each row of the matrix from the respective row. Do this without using a loop (that is, using array operations). For example, the input matrix is\n",
    "\n",
    "    array([[  0.,   1.,   2.,   3.],\n",
    "           [  4.,   5.,   6.,   7.],\n",
    "           [  8.,   9.,  10.,  11.]])\n",
    "\n",
    "The output should be:\n",
    "\n",
    "    array([[-1.5, -0.5,  0.5,  1.5],\n",
    "           [-1.5, -0.5,  0.5,  1.5],\n",
    "           [-1.5, -0.5,  0.5,  1.5]])"
   ]
  },
  {
   "cell_type": "code",
   "execution_count": 26,
   "metadata": {
    "nbgrader": {
     "grade": false,
     "grade_id": "rowmean",
     "locked": false,
     "schema_version": 1,
     "solution": true
    }
   },
   "outputs": [],
   "source": [
    "def array_minus_row_mean(F):\n",
    "    \"\"\"Returns input array with the mean of each row subtracted from the respective row.\n",
    "    \n",
    "    Does not use a loop but instead uses array operations.\n",
    "    \n",
    "    Parameters\n",
    "    ----------\n",
    "    F : numpy array\n",
    "        \n",
    "    Returns\n",
    "    -------\n",
    "    F with mean of each row subtracted from the respective row\n",
    "    \"\"\"\n",
    "    ### BEGIN SOLUTION\n",
    "    mean=np.mean(F,axis=(F.ndim-1)).reshape(F.shape[0],1)\n",
    "    return F-mean"
   ]
  },
  {
   "cell_type": "code",
   "execution_count": 27,
   "metadata": {
    "nbgrader": {
     "grade": true,
     "grade_id": "test_rowmean",
     "locked": true,
     "points": 1,
     "schema_version": 1,
     "solution": false
    }
   },
   "outputs": [
    {
     "name": "stdout",
     "output_type": "stream",
     "text": [
      "This test worked! Try the next cell too.\n"
     ]
    }
   ],
   "source": [
    "\"\"\"(1 point) Test code for the previous function. This cell should NOT give any errors when it is run.\"\"\"\n",
    "\n",
    "G = np.ones((2, 3))\n",
    "assert np.array_equal(array_minus_row_mean(G), np.zeros((2, 3)))\n",
    "\n",
    "print(\"This test worked! Try the next cell too.\")"
   ]
  },
  {
   "cell_type": "code",
   "execution_count": 28,
   "metadata": {
    "nbgrader": {
     "grade": true,
     "grade_id": "test_rowmean2",
     "locked": true,
     "points": 1,
     "schema_version": 1,
     "solution": false
    }
   },
   "outputs": [
    {
     "name": "stdout",
     "output_type": "stream",
     "text": [
      "Success!\n"
     ]
    }
   ],
   "source": [
    "\"\"\"(1 point) Test code for the previous function. This cell should NOT give any errors when it is run.\"\"\"\n",
    "\n",
    "H = np.array([[1., 2.], [3., 4.]])\n",
    "Hminus = np.array([[-0.5, 0.5], [-0.5, 0.5]])\n",
    "assert np.array_equal(array_minus_row_mean(H), Hminus)\n",
    "\n",
    "print(\"Success!\")"
   ]
  },
  {
   "cell_type": "markdown",
   "metadata": {
    "nbgrader": {
     "grade": false,
     "grade_id": "cell-5fb069d0561193b0",
     "locked": true,
     "schema_version": 1,
     "solution": false
    }
   },
   "source": [
    "### 10. Convert from Cartesian to polar coordinates (3 points)\n",
    "\n",
    "Write a function `cart2polar(xy)` which takes in an Nx2 matrix of `x, y` pairs representing Cartesian coordinates and return the locations represented in polar coordinates in the same shape matrix. Note, you should use `np.arctan2` instead of `np.arctan` to preserve the correct quadrant."
   ]
  },
  {
   "cell_type": "code",
   "execution_count": 29,
   "metadata": {
    "nbgrader": {
     "grade": false,
     "grade_id": "cart2polar",
     "locked": false,
     "schema_version": 1,
     "solution": true
    }
   },
   "outputs": [],
   "source": [
    "def cart2polar(xy):\n",
    "    \"\"\"Convert input from Cartesian to polar coordinates.\n",
    "    \n",
    "    Parameters\n",
    "    ----------\n",
    "    xy : array\n",
    "        Nx2 array of Cartesian coordinates, with columns of x and y coordinates, respectively.\n",
    "        \n",
    "    Returns\n",
    "    -------\n",
    "    rphi : array\n",
    "        Coordinates Nx2 array containing input coordinates in polar representation, \n",
    "        with columns radius and angle, respectively.\n",
    "    \"\"\"\n",
    "    ### BEGIN SOLUTION\n",
    "    dummy7=np.arctan2(xy[:,1],xy[:,0]).reshape(xy.shape[0],1)\n",
    "    dummy8=np.sqrt(xy[:,0]**2+xy[:,1]**2).reshape(xy.shape[0],1)\n",
    "    return np.hstack((dummy8,dummy7))\n"
   ]
  },
  {
   "cell_type": "code",
   "execution_count": 30,
   "metadata": {},
   "outputs": [
    {
     "data": {
      "text/plain": [
       "array([[1., 0.]])"
      ]
     },
     "execution_count": 30,
     "metadata": {},
     "output_type": "execute_result"
    }
   ],
   "source": [
    "test_input = np.array([[1, 0]])\n",
    "cart2polar(test_input)"
   ]
  },
  {
   "cell_type": "code",
   "execution_count": 31,
   "metadata": {
    "nbgrader": {
     "grade": true,
     "grade_id": "test_cart2polar",
     "locked": true,
     "points": 3,
     "schema_version": 1,
     "solution": false
    }
   },
   "outputs": [
    {
     "name": "stdout",
     "output_type": "stream",
     "text": [
      "Success!\n"
     ]
    }
   ],
   "source": [
    "\"\"\"(3 points) Test code for the previous function. This cell should NOT give any errors when it is run.\"\"\"\n",
    "\n",
    "cart = np.random.rand(10, 2)\n",
    "polar = cart2polar(cart)\n",
    "\n",
    "assert polar.shape == (10, 2)  # check for shape\n",
    "\n",
    "test_input = np.array([[1, 0]])\n",
    "test_output = np.array([[1, 0]])\n",
    "assert (cart2polar(test_input) == test_output).all()  #  check for known case [1, 0]\n",
    "\n",
    "test_input = np.array([[0, 1]])\n",
    "test_output = np.array([[1, np.pi/2]])\n",
    "assert (cart2polar(test_input) == test_output).all()  #  check for known case [0, 1]\n",
    "\n",
    "print(\"Success!\")"
   ]
  }
 ],
 "metadata": {
  "anaconda-cloud": {},
  "celltoolbar": "Create Assignment",
  "kernelspec": {
   "display_name": "Python 3",
   "language": "python",
   "name": "python3"
  },
  "language_info": {
   "codemirror_mode": {
    "name": "ipython",
    "version": 3
   },
   "file_extension": ".py",
   "mimetype": "text/x-python",
   "name": "python",
   "nbconvert_exporter": "python",
   "pygments_lexer": "ipython3",
   "version": "3.8.5"
  }
 },
 "nbformat": 4,
 "nbformat_minor": 1
}
